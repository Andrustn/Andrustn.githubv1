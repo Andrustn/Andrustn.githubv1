{
 "cells": [
  {
   "cell_type": "markdown",
   "metadata": {},
   "source": [
    "# Montgomery County Arrests Analysis\n",
    "## Trevor Andrus"
   ]
  },
  {
   "cell_type": "markdown",
   "metadata": {},
   "source": [
    "Import Packages"
   ]
  },
  {
   "cell_type": "code",
   "execution_count": 5,
   "metadata": {},
   "outputs": [],
   "source": [
    "import pandas as pd\n",
    "import matplotlib.pyplot as plt\n",
    "import getpass\n",
    "import mysql.connector\n",
    "from sqlalchemy import create_engine\n",
    "%matplotlib inline\n",
    "pd.options.display.max_rows = 100\n",
    "import warnings\n",
    "warnings.filterwarnings('ignore')\n",
    "plt.rcParams.update({'font.size': 18})"
   ]
  },
  {
   "cell_type": "markdown",
   "metadata": {},
   "source": [
    "Creating SQL connection"
   ]
  },
  {
   "cell_type": "code",
   "execution_count": 14,
   "metadata": {},
   "outputs": [
    {
     "name": "stdout",
     "output_type": "stream",
     "text": [
      "Enter Usernameandrustn\n",
      "Enter Passwordandrustn6011\n",
      "Enter Host10.18.54.68\n",
      "Enter Databaseandrustn\n"
     ]
    }
   ],
   "source": [
    "user = input(\"Enter Username\")\n",
    "pwd = input(\"Enter Password\")\n",
    "host = input(\"Enter Host\")\n",
    "database = input(\"Enter Database\")\n",
    "\n",
    "cnx_string = 'mysql+pymysql://'+user + ':'+pwd + '@' + host + '/' + database\n",
    "\n",
    "cnxn = create_engine(cnx_string)"
   ]
  },
  {
   "cell_type": "code",
   "execution_count": 15,
   "metadata": {},
   "outputs": [],
   "source": [
    "query = \"SELECT * from Arrests\"\n",
    "Arrests = pd.read_sql(query, cnxn)"
   ]
  },
  {
   "cell_type": "code",
   "execution_count": 16,
   "metadata": {
    "scrolled": false
   },
   "outputs": [
    {
     "data": {
      "text/html": [
       "<div>\n",
       "<style scoped>\n",
       "    .dataframe tbody tr th:only-of-type {\n",
       "        vertical-align: middle;\n",
       "    }\n",
       "\n",
       "    .dataframe tbody tr th {\n",
       "        vertical-align: top;\n",
       "    }\n",
       "\n",
       "    .dataframe thead th {\n",
       "        text-align: right;\n",
       "    }\n",
       "</style>\n",
       "<table border=\"1\" class=\"dataframe\">\n",
       "  <thead>\n",
       "    <tr style=\"text-align: right;\">\n",
       "      <th></th>\n",
       "      <th>last_name</th>\n",
       "      <th>first_name</th>\n",
       "      <th>age</th>\n",
       "      <th>street</th>\n",
       "      <th>city</th>\n",
       "      <th>state</th>\n",
       "      <th>arrest_date</th>\n",
       "      <th>offense</th>\n",
       "      <th>middle_name</th>\n",
       "      <th>insert_dt</th>\n",
       "    </tr>\n",
       "  </thead>\n",
       "  <tbody>\n",
       "    <tr>\n",
       "      <th>0</th>\n",
       "      <td>NARDELLA</td>\n",
       "      <td>CHARLES</td>\n",
       "      <td>29</td>\n",
       "      <td>4500 Block Of Avondalo St</td>\n",
       "      <td>BETHESDA</td>\n",
       "      <td>MD</td>\n",
       "      <td>2021-03-18</td>\n",
       "      <td>OBSTRUCTING &amp; HINDERING A POLICE OFFICER</td>\n",
       "      <td>None</td>\n",
       "      <td>2021-03-19</td>\n",
       "    </tr>\n",
       "    <tr>\n",
       "      <th>1</th>\n",
       "      <td>ADDISON</td>\n",
       "      <td>DAZHAN</td>\n",
       "      <td>26</td>\n",
       "      <td>18600 Block Of CARRIAGE WALK CIRCLE.</td>\n",
       "      <td>GAITHERSBURG</td>\n",
       "      <td>MD</td>\n",
       "      <td>2021-03-19</td>\n",
       "      <td>ASSAULT-FIRST DEGREE</td>\n",
       "      <td>CORTEZ</td>\n",
       "      <td>2021-03-19</td>\n",
       "    </tr>\n",
       "    <tr>\n",
       "      <th>2</th>\n",
       "      <td>DUNCAN</td>\n",
       "      <td>CHRISTOPHER</td>\n",
       "      <td>38</td>\n",
       "      <td>16200 Block Of Placid Pine Drive</td>\n",
       "      <td>ORANGE</td>\n",
       "      <td>MD</td>\n",
       "      <td>2021-03-19</td>\n",
       "      <td>OBT PROP VUL ADLT-L/T $1,500</td>\n",
       "      <td>ALAN</td>\n",
       "      <td>2021-03-20</td>\n",
       "    </tr>\n",
       "    <tr>\n",
       "      <th>3</th>\n",
       "      <td>LITTLE</td>\n",
       "      <td>PAUL</td>\n",
       "      <td>39</td>\n",
       "      <td>8100 Block Of georgia ave</td>\n",
       "      <td>SILVER SPRING</td>\n",
       "      <td>MD</td>\n",
       "      <td>2021-03-20</td>\n",
       "      <td>ASSAULT-SECOND DEGREE</td>\n",
       "      <td>None</td>\n",
       "      <td>2021-03-20</td>\n",
       "    </tr>\n",
       "    <tr>\n",
       "      <th>4</th>\n",
       "      <td>PHAM-TRAN</td>\n",
       "      <td>THAO</td>\n",
       "      <td>29</td>\n",
       "      <td>13300 Block Of Rushing Water</td>\n",
       "      <td>GERMANTOWN</td>\n",
       "      <td>MD</td>\n",
       "      <td>2021-03-20</td>\n",
       "      <td>THEFT LESS THAN $100.00</td>\n",
       "      <td>NGUYEN</td>\n",
       "      <td>2021-03-20</td>\n",
       "    </tr>\n",
       "    <tr>\n",
       "      <th>...</th>\n",
       "      <td>...</td>\n",
       "      <td>...</td>\n",
       "      <td>...</td>\n",
       "      <td>...</td>\n",
       "      <td>...</td>\n",
       "      <td>...</td>\n",
       "      <td>...</td>\n",
       "      <td>...</td>\n",
       "      <td>...</td>\n",
       "      <td>...</td>\n",
       "    </tr>\n",
       "    <tr>\n",
       "      <th>200</th>\n",
       "      <td>KUNBI</td>\n",
       "      <td>FETLEWORK</td>\n",
       "      <td>45</td>\n",
       "      <td>8700 Block Of BARRON STREET</td>\n",
       "      <td>TAKOMA PARK</td>\n",
       "      <td>MD</td>\n",
       "      <td>2021-06-25</td>\n",
       "      <td>VIOLATE PROTECTIVE ORDER</td>\n",
       "      <td>BEKELE</td>\n",
       "      <td>2021-06-26</td>\n",
       "    </tr>\n",
       "    <tr>\n",
       "      <th>201</th>\n",
       "      <td>DICKENS</td>\n",
       "      <td>JOMOKIN</td>\n",
       "      <td>27</td>\n",
       "      <td>7600 Block Of Hammond Ave</td>\n",
       "      <td>TAKOMA PARK</td>\n",
       "      <td>MD</td>\n",
       "      <td>2021-06-25</td>\n",
       "      <td>ASSAULT-SECOND DEGREE</td>\n",
       "      <td>MARKELL</td>\n",
       "      <td>2021-06-26</td>\n",
       "    </tr>\n",
       "    <tr>\n",
       "      <th>202</th>\n",
       "      <td>BENAVIDES HUNTER</td>\n",
       "      <td>WALTER</td>\n",
       "      <td>49</td>\n",
       "      <td>1800 Block Of metzerott rd</td>\n",
       "      <td>Adelphi</td>\n",
       "      <td>MD</td>\n",
       "      <td>2021-06-26</td>\n",
       "      <td>TRESPASS: PRIVATE PROPERTY</td>\n",
       "      <td>ROMMEL</td>\n",
       "      <td>2021-06-26</td>\n",
       "    </tr>\n",
       "    <tr>\n",
       "      <th>203</th>\n",
       "      <td>CRUZ FLORES</td>\n",
       "      <td>ROMARIO</td>\n",
       "      <td>25</td>\n",
       "      <td>12600 Block Of Montclair drive</td>\n",
       "      <td>SILVER SPRING</td>\n",
       "      <td>MD</td>\n",
       "      <td>2021-06-26</td>\n",
       "      <td>CDS: POSSESS-NOT MARIJUANA</td>\n",
       "      <td>None</td>\n",
       "      <td>2021-06-26</td>\n",
       "    </tr>\n",
       "    <tr>\n",
       "      <th>204</th>\n",
       "      <td>REYES LAZO</td>\n",
       "      <td>JOSE</td>\n",
       "      <td>40</td>\n",
       "      <td>800 Block Of Clopper Rd. Apt. B4</td>\n",
       "      <td>GAITHERSBURG</td>\n",
       "      <td>MD</td>\n",
       "      <td>2021-06-26</td>\n",
       "      <td>ASSAULT-SECOND DEGREE</td>\n",
       "      <td>None</td>\n",
       "      <td>2021-06-27</td>\n",
       "    </tr>\n",
       "  </tbody>\n",
       "</table>\n",
       "<p>205 rows × 10 columns</p>\n",
       "</div>"
      ],
      "text/plain": [
       "            last_name   first_name  age                                street  \\\n",
       "0            NARDELLA      CHARLES   29             4500 Block Of Avondalo St   \n",
       "1             ADDISON       DAZHAN   26  18600 Block Of CARRIAGE WALK CIRCLE.   \n",
       "2              DUNCAN  CHRISTOPHER   38      16200 Block Of Placid Pine Drive   \n",
       "3              LITTLE         PAUL   39             8100 Block Of georgia ave   \n",
       "4           PHAM-TRAN         THAO   29          13300 Block Of Rushing Water   \n",
       "..                ...          ...  ...                                   ...   \n",
       "200             KUNBI    FETLEWORK   45           8700 Block Of BARRON STREET   \n",
       "201           DICKENS      JOMOKIN   27             7600 Block Of Hammond Ave   \n",
       "202  BENAVIDES HUNTER       WALTER   49            1800 Block Of metzerott rd   \n",
       "203       CRUZ FLORES      ROMARIO   25        12600 Block Of Montclair drive   \n",
       "204        REYES LAZO         JOSE   40      800 Block Of Clopper Rd. Apt. B4   \n",
       "\n",
       "              city state arrest_date  \\\n",
       "0         BETHESDA    MD  2021-03-18   \n",
       "1     GAITHERSBURG    MD  2021-03-19   \n",
       "2           ORANGE    MD  2021-03-19   \n",
       "3    SILVER SPRING    MD  2021-03-20   \n",
       "4       GERMANTOWN    MD  2021-03-20   \n",
       "..             ...   ...         ...   \n",
       "200    TAKOMA PARK    MD  2021-06-25   \n",
       "201    TAKOMA PARK    MD  2021-06-25   \n",
       "202        Adelphi    MD  2021-06-26   \n",
       "203  SILVER SPRING    MD  2021-06-26   \n",
       "204   GAITHERSBURG    MD  2021-06-26   \n",
       "\n",
       "                                      offense middle_name   insert_dt  \n",
       "0    OBSTRUCTING & HINDERING A POLICE OFFICER        None  2021-03-19  \n",
       "1                        ASSAULT-FIRST DEGREE      CORTEZ  2021-03-19  \n",
       "2                OBT PROP VUL ADLT-L/T $1,500        ALAN  2021-03-20  \n",
       "3                       ASSAULT-SECOND DEGREE        None  2021-03-20  \n",
       "4                     THEFT LESS THAN $100.00      NGUYEN  2021-03-20  \n",
       "..                                        ...         ...         ...  \n",
       "200                  VIOLATE PROTECTIVE ORDER      BEKELE  2021-06-26  \n",
       "201                     ASSAULT-SECOND DEGREE     MARKELL  2021-06-26  \n",
       "202                TRESPASS: PRIVATE PROPERTY      ROMMEL  2021-06-26  \n",
       "203                CDS: POSSESS-NOT MARIJUANA        None  2021-06-26  \n",
       "204                     ASSAULT-SECOND DEGREE        None  2021-06-27  \n",
       "\n",
       "[205 rows x 10 columns]"
      ]
     },
     "execution_count": 16,
     "metadata": {},
     "output_type": "execute_result"
    }
   ],
   "source": [
    "Arrests"
   ]
  },
  {
   "cell_type": "markdown",
   "metadata": {},
   "source": [
    "Querying from the full table"
   ]
  },
  {
   "cell_type": "code",
   "execution_count": 13,
   "metadata": {},
   "outputs": [],
   "source": [
    "query2 = \"SELECT * from ArrestsFull\"\n",
    "ArrestsFull = pd.read_sql(query2, cnxn)"
   ]
  },
  {
   "cell_type": "code",
   "execution_count": 121,
   "metadata": {
    "scrolled": false
   },
   "outputs": [
    {
     "data": {
      "text/html": [
       "<div>\n",
       "<style scoped>\n",
       "    .dataframe tbody tr th:only-of-type {\n",
       "        vertical-align: middle;\n",
       "    }\n",
       "\n",
       "    .dataframe tbody tr th {\n",
       "        vertical-align: top;\n",
       "    }\n",
       "\n",
       "    .dataframe thead th {\n",
       "        text-align: right;\n",
       "    }\n",
       "</style>\n",
       "<table border=\"1\" class=\"dataframe\">\n",
       "  <thead>\n",
       "    <tr style=\"text-align: right;\">\n",
       "      <th></th>\n",
       "      <th>last_name</th>\n",
       "      <th>first_name</th>\n",
       "      <th>age</th>\n",
       "      <th>street</th>\n",
       "      <th>city</th>\n",
       "      <th>state</th>\n",
       "      <th>arrest_date</th>\n",
       "      <th>offense</th>\n",
       "      <th>middle_name</th>\n",
       "      <th>insert_dt</th>\n",
       "      <th>FullName</th>\n",
       "      <th>weekday</th>\n",
       "    </tr>\n",
       "  </thead>\n",
       "  <tbody>\n",
       "    <tr>\n",
       "      <th>0</th>\n",
       "      <td>CLAROS</td>\n",
       "      <td>JOSE</td>\n",
       "      <td>44</td>\n",
       "      <td>18000 Block Of DRIFTWOOD CT</td>\n",
       "      <td>GAITHERSBURG</td>\n",
       "      <td>MD</td>\n",
       "      <td>2021-03-25</td>\n",
       "      <td>MALICIOUS DESTRUCTION OF PROPERTY/VALUE LESS T...</td>\n",
       "      <td>BIBIANO</td>\n",
       "      <td>2021-03-25</td>\n",
       "      <td>JOSECLAROS</td>\n",
       "      <td>3</td>\n",
       "    </tr>\n",
       "    <tr>\n",
       "      <th>1</th>\n",
       "      <td>SIMMONS</td>\n",
       "      <td>HEIDI</td>\n",
       "      <td>36</td>\n",
       "      <td>0 Block Of marigold ct</td>\n",
       "      <td>SILVER SPRING</td>\n",
       "      <td>MD</td>\n",
       "      <td>2021-03-25</td>\n",
       "      <td>MOTOR VEHICLE/UNLAWFUL TAKING</td>\n",
       "      <td>BETH</td>\n",
       "      <td>2021-03-25</td>\n",
       "      <td>HEIDISIMMONS</td>\n",
       "      <td>3</td>\n",
       "    </tr>\n",
       "    <tr>\n",
       "      <th>2</th>\n",
       "      <td>MELCHER</td>\n",
       "      <td>JOSEPH</td>\n",
       "      <td>34</td>\n",
       "      <td>35100 Block Of melton st</td>\n",
       "      <td>ROCKVILLE</td>\n",
       "      <td>MI</td>\n",
       "      <td>2021-03-25</td>\n",
       "      <td>ASSAULT-SECOND DEGREE</td>\n",
       "      <td>DANIEL</td>\n",
       "      <td>2021-03-25</td>\n",
       "      <td>JOSEPHMELCHER</td>\n",
       "      <td>3</td>\n",
       "    </tr>\n",
       "    <tr>\n",
       "      <th>3</th>\n",
       "      <td>DIXON</td>\n",
       "      <td>JOSHUA</td>\n",
       "      <td>19</td>\n",
       "      <td>9300 Block Of Taverney Ter</td>\n",
       "      <td>GAITHERSBURG</td>\n",
       "      <td>MD</td>\n",
       "      <td>2021-03-25</td>\n",
       "      <td>CDS POSSESS WITH INTENT TO DISTRIBUTE</td>\n",
       "      <td>DAVE</td>\n",
       "      <td>2021-03-25</td>\n",
       "      <td>JOSHUADIXON</td>\n",
       "      <td>3</td>\n",
       "    </tr>\n",
       "    <tr>\n",
       "      <th>4</th>\n",
       "      <td>ZELAYA REYES</td>\n",
       "      <td>HECTOR</td>\n",
       "      <td>18</td>\n",
       "      <td>3800 Block Of Kelsey St.</td>\n",
       "      <td>SILVER SPRING</td>\n",
       "      <td>MD</td>\n",
       "      <td>2021-03-25</td>\n",
       "      <td>ASSAULT-SECOND DEGREE</td>\n",
       "      <td>JOCKSAN</td>\n",
       "      <td>2021-03-25</td>\n",
       "      <td>HECTORZELAYA REYES</td>\n",
       "      <td>3</td>\n",
       "    </tr>\n",
       "    <tr>\n",
       "      <th>5</th>\n",
       "      <td>GALINDO</td>\n",
       "      <td>MIRABAL</td>\n",
       "      <td>26</td>\n",
       "      <td>2400 Block Of Blueridge Ave</td>\n",
       "      <td>SILVER SPRING</td>\n",
       "      <td>MD</td>\n",
       "      <td>2021-03-24</td>\n",
       "      <td>ASSAULT-SECOND DEGREE</td>\n",
       "      <td>ABEL</td>\n",
       "      <td>2021-03-25</td>\n",
       "      <td>MIRABALGALINDO</td>\n",
       "      <td>2</td>\n",
       "    </tr>\n",
       "    <tr>\n",
       "      <th>6</th>\n",
       "      <td>GUTIERREZ</td>\n",
       "      <td>FERNANDO</td>\n",
       "      <td>31</td>\n",
       "      <td>13200 Block Of DUMBARTON DR</td>\n",
       "      <td>ROCKVILLE</td>\n",
       "      <td>MD</td>\n",
       "      <td>2021-03-24</td>\n",
       "      <td>ASSAULT-SECOND DEGREE</td>\n",
       "      <td>None</td>\n",
       "      <td>2021-03-25</td>\n",
       "      <td>FERNANDOGUTIERREZ</td>\n",
       "      <td>2</td>\n",
       "    </tr>\n",
       "    <tr>\n",
       "      <th>7</th>\n",
       "      <td>VAUGHAN</td>\n",
       "      <td>GINAH</td>\n",
       "      <td>41</td>\n",
       "      <td>Block Of Castle Way</td>\n",
       "      <td>SILVER SPRING</td>\n",
       "      <td>MD</td>\n",
       "      <td>2021-03-24</td>\n",
       "      <td>BURGLARY- FOURTH DEGREE THEFT</td>\n",
       "      <td>None</td>\n",
       "      <td>2021-03-25</td>\n",
       "      <td>GINAHVAUGHAN</td>\n",
       "      <td>2</td>\n",
       "    </tr>\n",
       "    <tr>\n",
       "      <th>8</th>\n",
       "      <td>DAVIES</td>\n",
       "      <td>ETHEL</td>\n",
       "      <td>27</td>\n",
       "      <td>14100 Block Of castle blvd</td>\n",
       "      <td>SILVER SPRING</td>\n",
       "      <td>MD</td>\n",
       "      <td>2021-03-24</td>\n",
       "      <td>DRIVING/ATTEMPTING DRIVE MOTOR VEH. ON HWY W/O...</td>\n",
       "      <td>None</td>\n",
       "      <td>2021-03-25</td>\n",
       "      <td>ETHELDAVIES</td>\n",
       "      <td>2</td>\n",
       "    </tr>\n",
       "    <tr>\n",
       "      <th>9</th>\n",
       "      <td>IKPEMGBE</td>\n",
       "      <td>CHRISTIAN</td>\n",
       "      <td>21</td>\n",
       "      <td>19000 Block Of Staleybridge Road</td>\n",
       "      <td>GERMANTOWN</td>\n",
       "      <td>MD</td>\n",
       "      <td>2021-03-24</td>\n",
       "      <td>LOADED HANDGUN IN VEHICLE</td>\n",
       "      <td>OGBONNA</td>\n",
       "      <td>2021-03-25</td>\n",
       "      <td>CHRISTIANIKPEMGBE</td>\n",
       "      <td>2</td>\n",
       "    </tr>\n",
       "  </tbody>\n",
       "</table>\n",
       "</div>"
      ],
      "text/plain": [
       "      last_name first_name  age                            street  \\\n",
       "0        CLAROS       JOSE   44       18000 Block Of DRIFTWOOD CT   \n",
       "1       SIMMONS      HEIDI   36            0 Block Of marigold ct   \n",
       "2       MELCHER     JOSEPH   34          35100 Block Of melton st   \n",
       "3         DIXON     JOSHUA   19        9300 Block Of Taverney Ter   \n",
       "4  ZELAYA REYES     HECTOR   18          3800 Block Of Kelsey St.   \n",
       "5       GALINDO    MIRABAL   26       2400 Block Of Blueridge Ave   \n",
       "6     GUTIERREZ   FERNANDO   31       13200 Block Of DUMBARTON DR   \n",
       "7       VAUGHAN      GINAH   41               Block Of Castle Way   \n",
       "8        DAVIES      ETHEL   27        14100 Block Of castle blvd   \n",
       "9      IKPEMGBE  CHRISTIAN   21  19000 Block Of Staleybridge Road   \n",
       "\n",
       "            city state arrest_date  \\\n",
       "0   GAITHERSBURG    MD  2021-03-25   \n",
       "1  SILVER SPRING    MD  2021-03-25   \n",
       "2      ROCKVILLE    MI  2021-03-25   \n",
       "3   GAITHERSBURG    MD  2021-03-25   \n",
       "4  SILVER SPRING    MD  2021-03-25   \n",
       "5  SILVER SPRING    MD  2021-03-24   \n",
       "6      ROCKVILLE    MD  2021-03-24   \n",
       "7  SILVER SPRING    MD  2021-03-24   \n",
       "8  SILVER SPRING    MD  2021-03-24   \n",
       "9     GERMANTOWN    MD  2021-03-24   \n",
       "\n",
       "                                             offense middle_name   insert_dt  \\\n",
       "0  MALICIOUS DESTRUCTION OF PROPERTY/VALUE LESS T...     BIBIANO  2021-03-25   \n",
       "1                      MOTOR VEHICLE/UNLAWFUL TAKING        BETH  2021-03-25   \n",
       "2                              ASSAULT-SECOND DEGREE      DANIEL  2021-03-25   \n",
       "3              CDS POSSESS WITH INTENT TO DISTRIBUTE        DAVE  2021-03-25   \n",
       "4                              ASSAULT-SECOND DEGREE     JOCKSAN  2021-03-25   \n",
       "5                              ASSAULT-SECOND DEGREE        ABEL  2021-03-25   \n",
       "6                              ASSAULT-SECOND DEGREE        None  2021-03-25   \n",
       "7                      BURGLARY- FOURTH DEGREE THEFT        None  2021-03-25   \n",
       "8  DRIVING/ATTEMPTING DRIVE MOTOR VEH. ON HWY W/O...        None  2021-03-25   \n",
       "9                          LOADED HANDGUN IN VEHICLE     OGBONNA  2021-03-25   \n",
       "\n",
       "             FullName  weekday  \n",
       "0          JOSECLAROS        3  \n",
       "1        HEIDISIMMONS        3  \n",
       "2       JOSEPHMELCHER        3  \n",
       "3         JOSHUADIXON        3  \n",
       "4  HECTORZELAYA REYES        3  \n",
       "5      MIRABALGALINDO        2  \n",
       "6   FERNANDOGUTIERREZ        2  \n",
       "7        GINAHVAUGHAN        2  \n",
       "8         ETHELDAVIES        2  \n",
       "9   CHRISTIANIKPEMGBE        2  "
      ]
     },
     "execution_count": 121,
     "metadata": {},
     "output_type": "execute_result"
    }
   ],
   "source": [
    "ArrestsFull.head(10)"
   ]
  },
  {
   "cell_type": "markdown",
   "metadata": {},
   "source": [
    "## Arrest Date"
   ]
  },
  {
   "cell_type": "markdown",
   "metadata": {},
   "source": [
    "After querying all the available data, we were left with 329 entries. The dates covered ranged from February 23 - March 25 of 2021. Considering we had mainly categorical variables, I first wanted to go through and analyze the value counts of each to identify the most common values and look for anything interesting on a single variable level. "
   ]
  },
  {
   "cell_type": "markdown",
   "metadata": {},
   "source": [
    "10 Most common Arrest dates"
   ]
  },
  {
   "cell_type": "code",
   "execution_count": 27,
   "metadata": {
    "scrolled": true
   },
   "outputs": [
    {
     "data": {
      "text/plain": [
       "2021-03-17    21\n",
       "2021-03-18    19\n",
       "2021-03-03    19\n",
       "2021-03-16    18\n",
       "2021-03-01    16\n",
       "2021-03-11    16\n",
       "2021-03-15    16\n",
       "2021-03-05    16\n",
       "2021-02-25    15\n",
       "2021-03-04    14\n",
       "Name: arrest_date, dtype: int64"
      ]
     },
     "execution_count": 27,
     "metadata": {},
     "output_type": "execute_result"
    }
   ],
   "source": [
    "ArrestsFull[\"arrest_date\"].value_counts()"
   ]
  },
  {
   "cell_type": "markdown",
   "metadata": {},
   "source": [
    "It seems that if you want to get arrested, March 17 was the best day for you to try and do so. Although this date doesn't seem significantly higher than all the rest. I next wanted to create a weekday column in the dataframe to see if more arrests occurred on weekdays or weekends. "
   ]
  },
  {
   "cell_type": "code",
   "execution_count": 67,
   "metadata": {},
   "outputs": [],
   "source": [
    "ArrestsFull[\"weekday\"] = 0\n",
    "for i in range(len(ArrestsFull[\"arrest_date\"])):\n",
    "    ArrestsFull[\"weekday\"][i] = ArrestsFull[\"arrest_date\"][i].weekday()"
   ]
  },
  {
   "cell_type": "code",
   "execution_count": 68,
   "metadata": {},
   "outputs": [
    {
     "data": {
      "text/plain": [
       "3    69\n",
       "2    62\n",
       "0    55\n",
       "1    52\n",
       "4    42\n",
       "6    27\n",
       "5    22\n",
       "Name: weekday, dtype: int64"
      ]
     },
     "execution_count": 68,
     "metadata": {},
     "output_type": "execute_result"
    }
   ],
   "source": [
    "ArrestsFull[\"weekday\"].value_counts()"
   ]
  },
  {
   "cell_type": "markdown",
   "metadata": {},
   "source": [
    "The pandas weekday function returns an integer corresponding to the day of the week - 1 being monday, and 6 being sunday. Interestingly from what we see above, Wednesday was the most common day to be arrested on, and the 3 weekend days were the days on which you were least likely to be arrested. This initially went against what I thought would happen - I assumed people on the weekends would be more rambunctious and be arrested more often, but this was not the case. It may be that police are more leanient on weekends, or that less police work weekends than weekdays. At this point all possible explanations are just speculation. "
   ]
  },
  {
   "cell_type": "markdown",
   "metadata": {},
   "source": [
    "## Age"
   ]
  },
  {
   "cell_type": "markdown",
   "metadata": {},
   "source": [
    "I next took a look at the age variable"
   ]
  },
  {
   "cell_type": "code",
   "execution_count": 24,
   "metadata": {
    "scrolled": true
   },
   "outputs": [
    {
     "data": {
      "text/plain": [
       "count    329.000000\n",
       "mean      33.869301\n",
       "std       11.200416\n",
       "min       17.000000\n",
       "25%       25.000000\n",
       "50%       31.000000\n",
       "75%       41.000000\n",
       "max       74.000000\n",
       "Name: age, dtype: float64"
      ]
     },
     "execution_count": 24,
     "metadata": {},
     "output_type": "execute_result"
    }
   ],
   "source": [
    "ArrestsFull[\"age\"].describe()"
   ]
  },
  {
   "cell_type": "markdown",
   "metadata": {},
   "source": [
    "From the above we can see that the mean age of someone arrested in Montgomery county over the past month is 33. The oldest person arrested was 74, and the youngest was 17. Just out of curiosity, I printed the whole row for the 74 year old criminal below:"
   ]
  },
  {
   "cell_type": "code",
   "execution_count": 69,
   "metadata": {
    "scrolled": true
   },
   "outputs": [
    {
     "data": {
      "text/html": [
       "<div>\n",
       "<style scoped>\n",
       "    .dataframe tbody tr th:only-of-type {\n",
       "        vertical-align: middle;\n",
       "    }\n",
       "\n",
       "    .dataframe tbody tr th {\n",
       "        vertical-align: top;\n",
       "    }\n",
       "\n",
       "    .dataframe thead th {\n",
       "        text-align: right;\n",
       "    }\n",
       "</style>\n",
       "<table border=\"1\" class=\"dataframe\">\n",
       "  <thead>\n",
       "    <tr style=\"text-align: right;\">\n",
       "      <th></th>\n",
       "      <th>last_name</th>\n",
       "      <th>first_name</th>\n",
       "      <th>age</th>\n",
       "      <th>street</th>\n",
       "      <th>city</th>\n",
       "      <th>state</th>\n",
       "      <th>arrest_date</th>\n",
       "      <th>offense</th>\n",
       "      <th>middle_name</th>\n",
       "      <th>insert_dt</th>\n",
       "      <th>FullName</th>\n",
       "      <th>weekday</th>\n",
       "    </tr>\n",
       "  </thead>\n",
       "  <tbody>\n",
       "    <tr>\n",
       "      <th>32</th>\n",
       "      <td>LEVIN</td>\n",
       "      <td>PERRY</td>\n",
       "      <td>74</td>\n",
       "      <td>11900 Block Of PARKLAND DR</td>\n",
       "      <td>ROCKVILLE</td>\n",
       "      <td>MD</td>\n",
       "      <td>2021-03-22</td>\n",
       "      <td>PEACE ORDER: FAIL TO COMPLY</td>\n",
       "      <td>STUART</td>\n",
       "      <td>2021-03-25</td>\n",
       "      <td>PERRYLEVIN</td>\n",
       "      <td>0</td>\n",
       "    </tr>\n",
       "  </tbody>\n",
       "</table>\n",
       "</div>"
      ],
      "text/plain": [
       "   last_name first_name  age                      street       city state  \\\n",
       "32     LEVIN      PERRY   74  11900 Block Of PARKLAND DR  ROCKVILLE    MD   \n",
       "\n",
       "   arrest_date                      offense middle_name   insert_dt  \\\n",
       "32  2021-03-22  PEACE ORDER: FAIL TO COMPLY      STUART  2021-03-25   \n",
       "\n",
       "      FullName  weekday  \n",
       "32  PERRYLEVIN        0  "
      ]
     },
     "execution_count": 69,
     "metadata": {},
     "output_type": "execute_result"
    }
   ],
   "source": [
    "ArrestsFull[ArrestsFull[\"age\"] == 74]"
   ]
  },
  {
   "cell_type": "markdown",
   "metadata": {},
   "source": [
    "Being arrested for failure to comply, it sounds like he may have been causing trouble and then refusing to stop when approached by law enforcement. "
   ]
  },
  {
   "cell_type": "markdown",
   "metadata": {},
   "source": [
    "## Offense"
   ]
  },
  {
   "cell_type": "markdown",
   "metadata": {},
   "source": [
    "Continuing the theme of looking at specific offenses, I then took a look at the offense column as a whole."
   ]
  },
  {
   "cell_type": "code",
   "execution_count": 82,
   "metadata": {
    "scrolled": true
   },
   "outputs": [
    {
     "data": {
      "text/plain": [
       "ASSAULT-SECOND DEGREE                                                            48\n",
       "ASSAULT-FIRST DEGREE                                                             31\n",
       "THEFT: $100 TO UNDER $1,500                                                      15\n",
       "CDS: POSSESS-NOT MARIJUANA                                                       11\n",
       "VIOLATE PROTECTIVE ORDER                                                         11\n",
       "TRESPASS: PRIVATE PROPERTY                                                       11\n",
       "DISORDERLY CONDUCT                                                                9\n",
       "DRIVING/ATTEMPTING DRIVE MOTOR VEH. ON HWY W/O REQ. LICENSE AND AUTHORIZATION     9\n",
       "ARMED ROBBERY                                                                     8\n",
       "THEFT LESS THAN $100.00                                                           7\n",
       "Name: offense, dtype: int64"
      ]
     },
     "execution_count": 82,
     "metadata": {},
     "output_type": "execute_result"
    }
   ],
   "source": [
    "ArrestsFull[\"offense\"].value_counts().head(10)"
   ]
  },
  {
   "cell_type": "markdown",
   "metadata": {},
   "source": [
    "From the above we can see that the most common offenses were assault (by a considerable margin might I add), and that thankfully the most common crimes are not too severe. Although I was curious as to how many severe crimes occured over the past month, and after looking through all the individual offenses found the following:\n",
    "\n",
    "9 counts of sex abuse against a minor\n",
    "\n",
    "3 counts of child pornography (1 with intent to distribute)\n",
    "\n",
    "2 counts of kidnapping\n",
    "\n",
    "1 count of first degree murder"
   ]
  },
  {
   "cell_type": "markdown",
   "metadata": {},
   "source": [
    "## Name"
   ]
  },
  {
   "cell_type": "markdown",
   "metadata": {},
   "source": [
    "After seeing the extent of the offenses, I became curious if anyone was arrested multiple times over the past month. I created a column in the dataframe combining the first an last names of people arrested, and looked at the individual values of each. "
   ]
  },
  {
   "cell_type": "code",
   "execution_count": 73,
   "metadata": {
    "scrolled": true
   },
   "outputs": [
    {
     "data": {
      "text/plain": [
       "LAFEBRACKENRIDGE     4\n",
       "JUVENILEJUVENILE     3\n",
       "KENNETHBARNHOUSE     2\n",
       "CASEYMOUSER          2\n",
       "MICHAELTAPSOBA       2\n",
       "ANGELAMAYA           2\n",
       "JORDANDOUVILLE       2\n",
       "WILLIEBELL           1\n",
       "RUSSELLCLARKE        1\n",
       "CLIFFORDMASSAQUOI    1\n",
       "Name: FullName, dtype: int64"
      ]
     },
     "execution_count": 73,
     "metadata": {},
     "output_type": "execute_result"
    }
   ],
   "source": [
    "ArrestsFull[\"FullName\"] = ArrestsFull[\"first_name\"] + ArrestsFull[\"last_name\"]\n",
    "ArrestsFull[\"FullName\"].value_counts().head(10)"
   ]
  },
  {
   "cell_type": "markdown",
   "metadata": {},
   "source": [
    "It appears that Lafe Brackenridge was the most frequent culprit, being arrested 4 times in the past month. The second in the list being \"Juvenile Juvenile\", I assume Montgomery country doesn't publicly disclose the identity of minors. Again for curiosity's sake, I've printed every time that Lafe has been arrested below."
   ]
  },
  {
   "cell_type": "code",
   "execution_count": 79,
   "metadata": {
    "scrolled": true
   },
   "outputs": [
    {
     "data": {
      "text/html": [
       "<div>\n",
       "<style scoped>\n",
       "    .dataframe tbody tr th:only-of-type {\n",
       "        vertical-align: middle;\n",
       "    }\n",
       "\n",
       "    .dataframe tbody tr th {\n",
       "        vertical-align: top;\n",
       "    }\n",
       "\n",
       "    .dataframe thead th {\n",
       "        text-align: right;\n",
       "    }\n",
       "</style>\n",
       "<table border=\"1\" class=\"dataframe\">\n",
       "  <thead>\n",
       "    <tr style=\"text-align: right;\">\n",
       "      <th></th>\n",
       "      <th>last_name</th>\n",
       "      <th>first_name</th>\n",
       "      <th>age</th>\n",
       "      <th>street</th>\n",
       "      <th>city</th>\n",
       "      <th>state</th>\n",
       "      <th>arrest_date</th>\n",
       "      <th>offense</th>\n",
       "      <th>middle_name</th>\n",
       "      <th>insert_dt</th>\n",
       "      <th>FullName</th>\n",
       "      <th>weekday</th>\n",
       "    </tr>\n",
       "  </thead>\n",
       "  <tbody>\n",
       "    <tr>\n",
       "      <th>73</th>\n",
       "      <td>DOUVILLE</td>\n",
       "      <td>JORDAN</td>\n",
       "      <td>20</td>\n",
       "      <td>Block Of NOT FIXED</td>\n",
       "      <td>ROCKVILLE</td>\n",
       "      <td>MD</td>\n",
       "      <td>2021-03-18</td>\n",
       "      <td>KIDNAPPING</td>\n",
       "      <td>None</td>\n",
       "      <td>2021-03-25</td>\n",
       "      <td>JORDANDOUVILLE</td>\n",
       "      <td>3</td>\n",
       "    </tr>\n",
       "    <tr>\n",
       "      <th>230</th>\n",
       "      <td>DOUVILLE</td>\n",
       "      <td>JORDAN</td>\n",
       "      <td>20</td>\n",
       "      <td>Block Of NOT FIXED</td>\n",
       "      <td>ROCKVILLE</td>\n",
       "      <td>MD</td>\n",
       "      <td>2021-03-04</td>\n",
       "      <td>MOTOR VEHICLE/UNLAWFUL TAKING</td>\n",
       "      <td>None</td>\n",
       "      <td>2021-03-25</td>\n",
       "      <td>JORDANDOUVILLE</td>\n",
       "      <td>3</td>\n",
       "    </tr>\n",
       "  </tbody>\n",
       "</table>\n",
       "</div>"
      ],
      "text/plain": [
       "    last_name first_name  age              street       city state  \\\n",
       "73   DOUVILLE     JORDAN   20  Block Of NOT FIXED  ROCKVILLE    MD   \n",
       "230  DOUVILLE     JORDAN   20  Block Of NOT FIXED  ROCKVILLE    MD   \n",
       "\n",
       "    arrest_date                        offense middle_name   insert_dt  \\\n",
       "73   2021-03-18                     KIDNAPPING        None  2021-03-25   \n",
       "230  2021-03-04  MOTOR VEHICLE/UNLAWFUL TAKING        None  2021-03-25   \n",
       "\n",
       "           FullName  weekday  \n",
       "73   JORDANDOUVILLE        3  \n",
       "230  JORDANDOUVILLE        3  "
      ]
     },
     "execution_count": 79,
     "metadata": {},
     "output_type": "execute_result"
    }
   ],
   "source": [
    "ArrestsFull[ArrestsFull[\"FullName\"] == \"LAFEBRACKENRIDGE\"]"
   ]
  },
  {
   "cell_type": "markdown",
   "metadata": {},
   "source": [
    "After looking at Mr Brackenridge's data, it looks like he wasn't arrested 4 times, but just charged with 4 offenses and arrested once on the 8th of march. I was then curious if any of the other people had actually been arrested more than once in the past month. "
   ]
  },
  {
   "cell_type": "code",
   "execution_count": 80,
   "metadata": {
    "scrolled": true
   },
   "outputs": [
    {
     "data": {
      "text/html": [
       "<div>\n",
       "<style scoped>\n",
       "    .dataframe tbody tr th:only-of-type {\n",
       "        vertical-align: middle;\n",
       "    }\n",
       "\n",
       "    .dataframe tbody tr th {\n",
       "        vertical-align: top;\n",
       "    }\n",
       "\n",
       "    .dataframe thead th {\n",
       "        text-align: right;\n",
       "    }\n",
       "</style>\n",
       "<table border=\"1\" class=\"dataframe\">\n",
       "  <thead>\n",
       "    <tr style=\"text-align: right;\">\n",
       "      <th></th>\n",
       "      <th>last_name</th>\n",
       "      <th>first_name</th>\n",
       "      <th>age</th>\n",
       "      <th>street</th>\n",
       "      <th>city</th>\n",
       "      <th>state</th>\n",
       "      <th>arrest_date</th>\n",
       "      <th>offense</th>\n",
       "      <th>middle_name</th>\n",
       "      <th>insert_dt</th>\n",
       "      <th>FullName</th>\n",
       "      <th>weekday</th>\n",
       "    </tr>\n",
       "  </thead>\n",
       "  <tbody>\n",
       "    <tr>\n",
       "      <th>73</th>\n",
       "      <td>DOUVILLE</td>\n",
       "      <td>JORDAN</td>\n",
       "      <td>20</td>\n",
       "      <td>Block Of NOT FIXED</td>\n",
       "      <td>ROCKVILLE</td>\n",
       "      <td>MD</td>\n",
       "      <td>2021-03-18</td>\n",
       "      <td>KIDNAPPING</td>\n",
       "      <td>None</td>\n",
       "      <td>2021-03-25</td>\n",
       "      <td>JORDANDOUVILLE</td>\n",
       "      <td>3</td>\n",
       "    </tr>\n",
       "    <tr>\n",
       "      <th>230</th>\n",
       "      <td>DOUVILLE</td>\n",
       "      <td>JORDAN</td>\n",
       "      <td>20</td>\n",
       "      <td>Block Of NOT FIXED</td>\n",
       "      <td>ROCKVILLE</td>\n",
       "      <td>MD</td>\n",
       "      <td>2021-03-04</td>\n",
       "      <td>MOTOR VEHICLE/UNLAWFUL TAKING</td>\n",
       "      <td>None</td>\n",
       "      <td>2021-03-25</td>\n",
       "      <td>JORDANDOUVILLE</td>\n",
       "      <td>3</td>\n",
       "    </tr>\n",
       "  </tbody>\n",
       "</table>\n",
       "</div>"
      ],
      "text/plain": [
       "    last_name first_name  age              street       city state  \\\n",
       "73   DOUVILLE     JORDAN   20  Block Of NOT FIXED  ROCKVILLE    MD   \n",
       "230  DOUVILLE     JORDAN   20  Block Of NOT FIXED  ROCKVILLE    MD   \n",
       "\n",
       "    arrest_date                        offense middle_name   insert_dt  \\\n",
       "73   2021-03-18                     KIDNAPPING        None  2021-03-25   \n",
       "230  2021-03-04  MOTOR VEHICLE/UNLAWFUL TAKING        None  2021-03-25   \n",
       "\n",
       "           FullName  weekday  \n",
       "73   JORDANDOUVILLE        3  \n",
       "230  JORDANDOUVILLE        3  "
      ]
     },
     "execution_count": 80,
     "metadata": {},
     "output_type": "execute_result"
    }
   ],
   "source": [
    "ArrestsFull[ArrestsFull[\"FullName\"] == \"JORDANDOUVILLE\"]"
   ]
  },
  {
   "cell_type": "markdown",
   "metadata": {},
   "source": [
    "After looking at each of the other's data, 4/5 of the people who have two offenses on record were actually arrested twice. Of note, Angel Amaya was arrested twice in two consecutive days, and Jordan Douville was one of the counts of kidnapping that we identified earlier. "
   ]
  },
  {
   "cell_type": "markdown",
   "metadata": {},
   "source": [
    "## City"
   ]
  },
  {
   "cell_type": "markdown",
   "metadata": {},
   "source": [
    "Continuing through the variables, I then looked at which cities were most common to be arrested in. "
   ]
  },
  {
   "cell_type": "code",
   "execution_count": 26,
   "metadata": {
    "scrolled": true
   },
   "outputs": [
    {
     "data": {
      "text/plain": [
       "SILVER SPRING         90\n",
       "GAITHERSBURG          45\n",
       "ROCKVILLE             36\n",
       "Washington D.C.       31\n",
       "GERMANTOWN            23\n",
       "HYATTSVILLE            9\n",
       "BETHESDA               8\n",
       "Montgomery Village     8\n",
       "LAUREL                 6\n",
       "WASHINGTON             3\n",
       "Name: city, dtype: int64"
      ]
     },
     "execution_count": 26,
     "metadata": {},
     "output_type": "execute_result"
    }
   ],
   "source": [
    "ArrestsFull[\"city\"].value_counts().head(10)"
   ]
  },
  {
   "cell_type": "markdown",
   "metadata": {},
   "source": [
    "<img src=\"0cd82df9b0b25eeeb1cc1ec7c2aad21e.png\">"
   ]
  },
  {
   "cell_type": "markdown",
   "metadata": {},
   "source": [
    "Picture from : https://www.pinterest.com/pin/68117013090795472/"
   ]
  },
  {
   "cell_type": "markdown",
   "metadata": {},
   "source": [
    "I also included a map above to get a better idea of where these arrests were occuring. It seems like most occur in and around the Washington DC area - a good portion of them occuring in DC proper and in silver spring (right outside). \n",
    "\n",
    "Fun fact - I didn't realize how close this was to my home town, but my home county in Virginia literally borders montgomery county to the south - I live probably 20 minutes from the city of bethesda shown above. "
   ]
  },
  {
   "cell_type": "markdown",
   "metadata": {},
   "source": [
    "## Street"
   ]
  },
  {
   "cell_type": "markdown",
   "metadata": {},
   "source": [
    "I also looked at the values for the street on which people were arrested, but didn't see anything significant there. Here is the top 10 most common places that people were arrested:"
   ]
  },
  {
   "cell_type": "code",
   "execution_count": 120,
   "metadata": {},
   "outputs": [
    {
     "data": {
      "text/plain": [
       "NO FIXED ADDRESS                   24\n",
       "4200 Block Of 4TH STREET NW         4\n",
       "0 Block Of Taft Ct                  3\n",
       "13300 Block Of dovedale way         2\n",
       "Block Of NOT FIXED                  2\n",
       "8700 Block Of FIRST AVE.            2\n",
       "900 Block Of W. EDMONSTON DRIVE     1\n",
       "0 Block Of Hemsted dr.              1\n",
       "4200 Block Of DIX STREET NE         1\n",
       "0 Block Of QUEENSCITY PAVEMENT      1\n",
       "Name: street, dtype: int64"
      ]
     },
     "execution_count": 120,
     "metadata": {},
     "output_type": "execute_result"
    }
   ],
   "source": [
    "ArrestsFull[\"street\"].value_counts().head(10)"
   ]
  },
  {
   "cell_type": "markdown",
   "metadata": {},
   "source": [
    "## State"
   ]
  },
  {
   "cell_type": "markdown",
   "metadata": {},
   "source": [
    "The last individual variable I had left to analyze was state, and I printed all of the values below."
   ]
  },
  {
   "cell_type": "code",
   "execution_count": 41,
   "metadata": {},
   "outputs": [
    {
     "data": {
      "text/plain": [
       "MD    284\n",
       "DC     29\n",
       "VA      4\n",
       "FL      3\n",
       "WV      1\n",
       "MI      1\n",
       "TX      1\n",
       "NJ      1\n",
       "CA      1\n",
       "NY      1\n",
       "WA      1\n",
       "Name: state, dtype: int64"
      ]
     },
     "execution_count": 41,
     "metadata": {},
     "output_type": "execute_result"
    }
   ],
   "source": [
    "ArrestsFull[\"state\"].value_counts()"
   ]
  },
  {
   "cell_type": "markdown",
   "metadata": {},
   "source": [
    "Many of the states featured are not surprising: Maryland makes up a bulk of the arrests, followed by DC and then Virginia which borders directly to the south. However, I was surprised to see states as far as Washington reporting arrests - literally thousands of miles away. I don't really understand how that happens (I highly doubt montgomery county police are hunting down fugitives across the country) but it may be that these people were living in Maryland, but then arrested by local police in these other states. "
   ]
  },
  {
   "cell_type": "markdown",
   "metadata": {},
   "source": [
    "## Two Variable Analyses"
   ]
  },
  {
   "cell_type": "markdown",
   "metadata": {},
   "source": [
    "After the individual variables, I decided to take a look at some relationships between variables. I looked to see if there was a difference in age based on the city in which the suspect was arrested."
   ]
  },
  {
   "cell_type": "code",
   "execution_count": 137,
   "metadata": {},
   "outputs": [
    {
     "data": {
      "text/html": [
       "<div>\n",
       "<style scoped>\n",
       "    .dataframe tbody tr th:only-of-type {\n",
       "        vertical-align: middle;\n",
       "    }\n",
       "\n",
       "    .dataframe tbody tr th {\n",
       "        vertical-align: top;\n",
       "    }\n",
       "\n",
       "    .dataframe thead th {\n",
       "        text-align: right;\n",
       "    }\n",
       "</style>\n",
       "<table border=\"1\" class=\"dataframe\">\n",
       "  <thead>\n",
       "    <tr style=\"text-align: right;\">\n",
       "      <th></th>\n",
       "      <th>age</th>\n",
       "    </tr>\n",
       "  </thead>\n",
       "  <tbody>\n",
       "    <tr>\n",
       "      <th>count</th>\n",
       "      <td>57.000000</td>\n",
       "    </tr>\n",
       "    <tr>\n",
       "      <th>mean</th>\n",
       "      <td>32.534213</td>\n",
       "    </tr>\n",
       "    <tr>\n",
       "      <th>std</th>\n",
       "      <td>7.527463</td>\n",
       "    </tr>\n",
       "    <tr>\n",
       "      <th>min</th>\n",
       "      <td>17.000000</td>\n",
       "    </tr>\n",
       "    <tr>\n",
       "      <th>25%</th>\n",
       "      <td>28.000000</td>\n",
       "    </tr>\n",
       "    <tr>\n",
       "      <th>50%</th>\n",
       "      <td>32.000000</td>\n",
       "    </tr>\n",
       "    <tr>\n",
       "      <th>75%</th>\n",
       "      <td>37.305556</td>\n",
       "    </tr>\n",
       "    <tr>\n",
       "      <th>max</th>\n",
       "      <td>67.000000</td>\n",
       "    </tr>\n",
       "  </tbody>\n",
       "</table>\n",
       "</div>"
      ],
      "text/plain": [
       "             age\n",
       "count  57.000000\n",
       "mean   32.534213\n",
       "std     7.527463\n",
       "min    17.000000\n",
       "25%    28.000000\n",
       "50%    32.000000\n",
       "75%    37.305556\n",
       "max    67.000000"
      ]
     },
     "execution_count": 137,
     "metadata": {},
     "output_type": "execute_result"
    }
   ],
   "source": [
    "CityAge = ArrestsFull.groupby([\"city\"]).mean()\n",
    "CityAge = CityAge.drop(columns = \"weekday\")\n",
    "CityAge.describe()"
   ]
  },
  {
   "cell_type": "markdown",
   "metadata": {},
   "source": [
    "I'm fairly certain the minimum value was the result of only the one minor being arrested in the city, but I found the max of 67 interesting - because the value isn't 74, we know that more than one value must be contributing to the average. (or at least that our previously mentioned 74 year old pal Levin Perry wasn't the only one arrested in his city)."
   ]
  },
  {
   "cell_type": "code",
   "execution_count": 142,
   "metadata": {},
   "outputs": [
    {
     "data": {
      "text/html": [
       "<div>\n",
       "<style scoped>\n",
       "    .dataframe tbody tr th:only-of-type {\n",
       "        vertical-align: middle;\n",
       "    }\n",
       "\n",
       "    .dataframe tbody tr th {\n",
       "        vertical-align: top;\n",
       "    }\n",
       "\n",
       "    .dataframe thead th {\n",
       "        text-align: right;\n",
       "    }\n",
       "</style>\n",
       "<table border=\"1\" class=\"dataframe\">\n",
       "  <thead>\n",
       "    <tr style=\"text-align: right;\">\n",
       "      <th></th>\n",
       "      <th>age</th>\n",
       "    </tr>\n",
       "    <tr>\n",
       "      <th>city</th>\n",
       "      <th></th>\n",
       "    </tr>\n",
       "  </thead>\n",
       "  <tbody>\n",
       "    <tr>\n",
       "      <th>Martinsburg</th>\n",
       "      <td>67.0</td>\n",
       "    </tr>\n",
       "  </tbody>\n",
       "</table>\n",
       "</div>"
      ],
      "text/plain": [
       "              age\n",
       "city             \n",
       "Martinsburg  67.0"
      ]
     },
     "execution_count": 142,
     "metadata": {},
     "output_type": "execute_result"
    }
   ],
   "source": [
    "CityAge[CityAge[\"age\"] == CityAge[\"age\"].max()]"
   ]
  },
  {
   "cell_type": "markdown",
   "metadata": {},
   "source": [
    "Let it be known that the city of martinsburg holds the title of oldest average criminals over the past month in Montgomery county Maryland. "
   ]
  },
  {
   "cell_type": "markdown",
   "metadata": {},
   "source": [
    "I decided to finish my analysis by looking at some vizualizations and comparisons between variables. "
   ]
  },
  {
   "cell_type": "markdown",
   "metadata": {},
   "source": [
    "## Vizualizations"
   ]
  },
  {
   "cell_type": "markdown",
   "metadata": {},
   "source": [
    "We really only have one quantitative variable (age) so I performed a histogram to see its distribution below. "
   ]
  },
  {
   "cell_type": "code",
   "execution_count": 111,
   "metadata": {},
   "outputs": [
    {
     "data": {
      "text/plain": [
       "Text(0.5, 0, 'Age')"
      ]
     },
     "execution_count": 111,
     "metadata": {},
     "output_type": "execute_result"
    },
    {
     "data": {
      "image/png": "[encoded data removed]",
      "text/plain": [
       "<Figure size 432x288 with 1 Axes>"
      ]
     },
     "metadata": {
      "needs_background": "light"
     },
     "output_type": "display_data"
    }
   ],
   "source": [
    "plt.hist(ArrestsFull[\"age\"])\n",
    "plt.title(\"Histogram of Age\")\n",
    "plt.ylabel(\"Frequency\")\n",
    "plt.xlabel(\"Age\")"
   ]
  },
  {
   "cell_type": "markdown",
   "metadata": {},
   "source": [
    "We can see that younger people (below age 40) are more likely to be arrested, and that nobody below the age of 17 is being arrested. We can see the histogram is consistent with our previous numerical summary - it looks like the average age of suspect is around 33."
   ]
  },
  {
   "cell_type": "markdown",
   "metadata": {},
   "source": [
    "I then wanted to look at arrests over time, and see if there was an increasing or decreasing trend. I pushed the value counts of the dates into a data frame below, and then created a plot to show how the number of arrests changed over the month. "
   ]
  },
  {
   "cell_type": "code",
   "execution_count": 99,
   "metadata": {},
   "outputs": [
    {
     "data": {
      "text/html": [
       "<div>\n",
       "<style scoped>\n",
       "    .dataframe tbody tr th:only-of-type {\n",
       "        vertical-align: middle;\n",
       "    }\n",
       "\n",
       "    .dataframe tbody tr th {\n",
       "        vertical-align: top;\n",
       "    }\n",
       "\n",
       "    .dataframe thead th {\n",
       "        text-align: right;\n",
       "    }\n",
       "</style>\n",
       "<table border=\"1\" class=\"dataframe\">\n",
       "  <thead>\n",
       "    <tr style=\"text-align: right;\">\n",
       "      <th></th>\n",
       "      <th>Date</th>\n",
       "      <th>counts</th>\n",
       "    </tr>\n",
       "  </thead>\n",
       "  <tbody>\n",
       "    <tr>\n",
       "      <th>30</th>\n",
       "      <td>2021-02-23</td>\n",
       "      <td>1</td>\n",
       "    </tr>\n",
       "    <tr>\n",
       "      <th>27</th>\n",
       "      <td>2021-02-24</td>\n",
       "      <td>5</td>\n",
       "    </tr>\n",
       "    <tr>\n",
       "      <th>8</th>\n",
       "      <td>2021-02-25</td>\n",
       "      <td>15</td>\n",
       "    </tr>\n",
       "    <tr>\n",
       "      <th>17</th>\n",
       "      <td>2021-02-26</td>\n",
       "      <td>8</td>\n",
       "    </tr>\n",
       "    <tr>\n",
       "      <th>25</th>\n",
       "      <td>2021-02-27</td>\n",
       "      <td>6</td>\n",
       "    </tr>\n",
       "  </tbody>\n",
       "</table>\n",
       "</div>"
      ],
      "text/plain": [
       "          Date  counts\n",
       "30  2021-02-23       1\n",
       "27  2021-02-24       5\n",
       "8   2021-02-25      15\n",
       "17  2021-02-26       8\n",
       "25  2021-02-27       6"
      ]
     },
     "execution_count": 99,
     "metadata": {},
     "output_type": "execute_result"
    }
   ],
   "source": [
    "dates = ArrestsFull[\"arrest_date\"].value_counts().rename_axis('Date').reset_index(name='counts')\n",
    "dates = dates.sort_values(by ='Date' )\n",
    "dates.head(5)"
   ]
  },
  {
   "cell_type": "code",
   "execution_count": 112,
   "metadata": {},
   "outputs": [
    {
     "data": {
      "text/plain": [
       "Text(0.5, 0, 'Date')"
      ]
     },
     "execution_count": 112,
     "metadata": {},
     "output_type": "execute_result"
    },
    {
     "data": {
      "image/png": "[encoded data removed]",
      "text/plain": [
       "<Figure size 1440x720 with 1 Axes>"
      ]
     },
     "metadata": {
      "needs_background": "light"
     },
     "output_type": "display_data"
    }
   ],
   "source": [
    "plt.figure(figsize=(20,10))\n",
    "plt.plot(dates[\"Date\"], dates[\"counts\"])\n",
    "plt.title(\"Arrests over time\")\n",
    "plt.ylabel(\"Number of Arrests\")\n",
    "plt.xlabel(\"Date\")"
   ]
  },
  {
   "cell_type": "markdown",
   "metadata": {},
   "source": [
    "From what I can tell, there doesn't seem to be much of a trend - everything seems pretty random. If I had more time this may be good data to run time series analysis on (because everything looks fairly stationary already.) As an additional note, with this new data frame we can look at average arrests per day:"
   ]
  },
  {
   "cell_type": "code",
   "execution_count": 116,
   "metadata": {},
   "outputs": [
    {
     "name": "stdout",
     "output_type": "stream",
     "text": [
      "On average 10.612903225806452 people per day were arrested in Montgomery county Marlyand from February 23 to March 25 2021.\n"
     ]
    }
   ],
   "source": [
    "print(\"On average \" + str(dates[\"counts\"].mean()) + \" people per day were arrested in Montgomery county Marlyand from February 23 to March 25 2021.\")"
   ]
  }
 ],
 "metadata": {
  "kernelspec": {
   "display_name": "Python 3",
   "language": "python",
   "name": "python3"
  },
  "language_info": {
   "codemirror_mode": {
    "name": "ipython",
    "version": 3
   },
   "file_extension": ".py",
   "mimetype": "text/x-python",
   "name": "python",
   "nbconvert_exporter": "python",
   "pygments_lexer": "ipython3",
   "version": "3.8.8"
  }
 },
 "nbformat": 4,
 "nbformat_minor": 4
}
