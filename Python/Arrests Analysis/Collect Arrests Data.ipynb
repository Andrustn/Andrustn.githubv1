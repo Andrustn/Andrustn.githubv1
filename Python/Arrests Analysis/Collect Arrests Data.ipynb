{
 "cells": [
  {
   "cell_type": "code",
   "execution_count": 1,
   "id": "36dbcb7a",
   "metadata": {},
   "outputs": [],
   "source": [
    "# importing packages\n",
    "import sqlalchemy as sa\n",
    "import pandas as pd\n",
    "import requests\n",
    "from datetime import datetime, date, timedelta  "
   ]
  },
  {
   "cell_type": "code",
   "execution_count": 3,
   "id": "ceee49cd",
   "metadata": {},
   "outputs": [],
   "source": [
    "user = \"andrustn\"\n",
    "pwd = \"andrustn6011\"\n",
    "host = '10.18.54.68'\n",
    "database = 'andrustn'\n",
    "\n",
    "cnx_string = 'mysql+pymysql://'+user + ':'+pwd + '@' + host + '/' + database\n",
    "\n",
    "cnxn = sa.create_engine(cnx_string)"
   ]
  },
  {
   "cell_type": "markdown",
   "id": "17dcd1ba",
   "metadata": {},
   "source": [
    "Create Time difference to allow for Cron job to repeatedly query"
   ]
  },
  {
   "cell_type": "code",
   "execution_count": 5,
   "id": "0e0abaed",
   "metadata": {},
   "outputs": [],
   "source": [
    "before = (datetime.now() - timedelta(hours=10)).strftime('%Y-%m-%dT%H:%M:%S.%f') # 10 hours to account for time difference\n",
    "today = date.today()"
   ]
  },
  {
   "cell_type": "markdown",
   "id": "2d18a8e4",
   "metadata": {},
   "source": [
    "Write query to retrieve data from Montgomery County API"
   ]
  },
  {
   "cell_type": "code",
   "execution_count": null,
   "id": "b9db44bc",
   "metadata": {},
   "outputs": [],
   "source": [
    "SoQL = \"https://data.montgomerycountymd.gov/resource/xhwt-7h2h.json?$query=SELECT * WHERE arrest_date >= \" + \"'\" + before + \"'\"\n",
    "results = requests.get(SoQL)\n",
    "\n",
    "dictr = results.json()\n",
    "\n",
    "results_df = pd.json_normalize(dictr)\n",
    "   \n",
    "results_df['insert_dt'] = today\n",
    "\n",
    "results_df\n",
    "\n",
    "# Push to mySQL database\n",
    "results_df.to_sql(name = 'Arrests',con = cnxn, if_exists = 'append', index = False)\n"
   ]
  }
 ],
 "metadata": {
  "kernelspec": {
   "display_name": "Python 3",
   "language": "python",
   "name": "python3"
  },
  "language_info": {
   "codemirror_mode": {
    "name": "ipython",
    "version": 3
   },
   "file_extension": ".py",
   "mimetype": "text/x-python",
   "name": "python",
   "nbconvert_exporter": "python",
   "pygments_lexer": "ipython3",
   "version": "3.8.8"
  }
 },
 "nbformat": 4,
 "nbformat_minor": 5
}
